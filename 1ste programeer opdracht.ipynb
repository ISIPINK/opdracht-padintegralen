{
 "cells": [
  {
   "cell_type": "code",
   "execution_count": 182,
   "metadata": {},
   "outputs": [],
   "source": [
    "from abc import ABC, abstractmethod\n",
    "from dataclasses import dataclass\n",
    "from math import exp\n",
    "from math import sqrt\n",
    "import matplotlib.pyplot as plt\n",
    "\n",
    "@dataclass\n",
    "class Model:\n",
    "  rente:float\n",
    "  volatiliteit:float\n",
    "  looptijd:float \n",
    "  aantal_intervallen:int\n",
    "  strike: float\n",
    "  payoffType: str \n",
    "  bariere: list\n",
    "\n",
    "  @property\n",
    "  def delta_t(self)->float:\n",
    "    return self.looptijd/self.aantal_intervallen\n",
    "  \n",
    "  @property\n",
    "  def delta_x(self):\n",
    "    return self.volatiliteit*sqrt(self.delta_t)\n",
    " \n",
    "  @property\n",
    "  def kansBoven(self):\n",
    "    return (exp(self.rente * self.delta_t)-exp(-self.delta_x))/(exp(self.delta_x)-exp(-self.delta_x))\n",
    "  \n",
    "  @property\n",
    "  def kansOnder(self):\n",
    "    return 1-self.kansBoven \n",
    "  \n",
    "  def payoffOptie(self, S:float):\n",
    "    if self.payoffType == \"call\":\n",
    "      return max(S-self.strike,0)\n",
    "    elif self.payoffType == \"put\":\n",
    "      return max(self.strike-S,0)\n",
    "    else:\n",
    "      print(\"error type payoff bestaat niet\")\n",
    " "
   ]
  },
  {
   "cell_type": "markdown",
   "metadata": {},
   "source": [
    "# schets van de oplossing\n",
    "## programma 1\n",
    "2 dictionaries = $V_{t}$ en $V_{t+1}$\n",
    "Vt wordt uit Vt1 uit gerekend \n",
    "Vt vervangt Vt1\n",
    "of mss met klassen\n",
    "## programma 2\n",
    "loop over alle paden (hou pad in memory)\n",
    "en bereken de gemiddelde waarde met de payoff+(verdisconteren)\n",
    "## programma 3\n",
    "loop over willekeurige paden (hou pad in memory)\n",
    "en bereken de gemiddelde waarde met de payoff+(verdisconteren)\n",
    "\n",
    "## bijvraag\n",
    "### programma 1\n",
    "ik ben nu naar in binomiaal boom aan het kijken met 2 stappen\n",
    "(pas de randwaarde aan) dan is de waarde van optie gekent voor alles\n",
    "op eindtijdstip door de payoff en alles voorbij de bariere. \n",
    "### programma 2 en 3\n",
    "schrijf een functie die uitmaakt dat pad voorbij de bariere is geweest\n",
    "en pas de payoff daar op aan."
   ]
  },
  {
   "cell_type": "code",
   "execution_count": 268,
   "metadata": {},
   "outputs": [],
   "source": [
    "# test model\n",
    "testModel = Model(\n",
    "    rente = 0.05,\n",
    "    volatiliteit= 0.15,\n",
    "    looptijd= 1,\n",
    "    aantal_intervallen= 10,\n",
    "    strike= 0.05,\n",
    "    payoffType= \"call\",\n",
    "    bariere = [-0.2,0.2]\n",
    ")"
   ]
  },
  {
   "cell_type": "markdown",
   "metadata": {},
   "source": [
    "# implementatie programma 1"
   ]
  },
  {
   "cell_type": "code",
   "execution_count": 52,
   "metadata": {},
   "outputs": [],
   "source": [
    "def x_waarden_op_het_einde(par:Model):\n",
    "    # laagste x = -aantal_intervallen * delta_x\n",
    "    laagste_x = -par.aantal_intervallen * par.delta_x \n",
    "    aantal_x_waarde_einde = par.aantal_intervallen+1\n",
    "    return [laagste_x + 2*par.delta_x *i for i in range(aantal_x_waarde_einde)]\n",
    "\n",
    "def init_V(par:Model):\n",
    "    return {x:par.payoffOptie(x) for x in x_waarden_op_het_einde(par)}\n",
    "\n",
    "def plot_V(V):\n",
    "    x,y = zip(*V.items())\n",
    "    plt.plot(x,y)\n",
    "    plt.show()\n",
    "\n",
    "# TODO: dit kan beter met een dictionary comprehension\n",
    "def terug_V(V,par:Model):\n",
    "    Vterug = {}\n",
    "    for i in range(len(V.keys())-1):\n",
    "        keys = list(V.keys())\n",
    "        x = keys[i]\n",
    "        x_volg = keys[i+1]\n",
    "        x_nieuw  = (x+x_volg)/2\n",
    "        V_nieuw = V[x]*par.kansOnder + V[x_volg] * par.kansBoven\n",
    "        Vterug[x_nieuw] = V_nieuw * exp(-par.rente * par.delta_t) \n",
    "    return Vterug\n",
    "\n",
    "def eindigeDifferentie(par:Model):\n",
    "    V = init_V(par)\n",
    "    for _ in range(par.aantal_intervallen):\n",
    "        V = terug_V(V,par)\n",
    "    return V"
   ]
  },
  {
   "cell_type": "code",
   "execution_count": 53,
   "metadata": {},
   "outputs": [
    {
     "name": "stdout",
     "output_type": "stream",
     "text": [
      "[-0.4743416490252569, -0.3794733192202055, -0.2846049894151541, -0.18973665961010278, -0.09486832980505139, 0.0, 0.09486832980505133, 0.18973665961010278, 0.2846049894151541, 0.37947331922020544, 0.4743416490252569]\n"
     ]
    }
   ],
   "source": [
    "print(x_waarden_op_het_einde(testModel))"
   ]
  },
  {
   "cell_type": "code",
   "execution_count": 56,
   "metadata": {},
   "outputs": [
    {
     "data": {
      "image/png": "[encoded data removed]",
      "text/plain": [
       "<Figure size 432x288 with 1 Axes>"
      ]
     },
     "metadata": {
      "needs_background": "light"
     },
     "output_type": "display_data"
    }
   ],
   "source": [
    "V = init_V(testModel)\n",
    "plot_V(V)"
   ]
  },
  {
   "cell_type": "code",
   "execution_count": 57,
   "metadata": {},
   "outputs": [
    {
     "data": {
      "image/png": "[encoded data removed]",
      "text/plain": [
       "<Figure size 432x288 with 1 Axes>"
      ]
     },
     "metadata": {
      "needs_background": "light"
     },
     "output_type": "display_data"
    }
   ],
   "source": [
    "V = init_V(testModel)\n",
    "for _ in range(testModel.aantal_intervallen // 2):\n",
    "    V = terug_V(V,testModel)\n",
    "plot_V(V)"
   ]
  },
  {
   "cell_type": "code",
   "execution_count": 58,
   "metadata": {},
   "outputs": [
    {
     "data": {
      "text/plain": [
       "{-1.3877787807814457e-17: 0.06358034707513392}"
      ]
     },
     "execution_count": 58,
     "metadata": {},
     "output_type": "execute_result"
    }
   ],
   "source": [
    "eindigeDifferentie(testModel)"
   ]
  },
  {
   "cell_type": "markdown",
   "metadata": {},
   "source": [
    "# implementatie programma 2"
   ]
  },
  {
   "cell_type": "code",
   "execution_count": 59,
   "metadata": {},
   "outputs": [],
   "source": [
    "from collections import namedtuple\n",
    "Pad = namedtuple(\"Pad\",[\"weg\",\"stappen_op\", \"stappen_neer\"])\n",
    "#TODO maak dit beter want dit is niet leesbaar\n",
    "def padGenA(n,d):\n",
    "    if n==0:\n",
    "        yield Pad([0],0,0) \n",
    "    else: \n",
    "        for g in padGenA(n-1,d):\n",
    "            weg = g.weg + [g.weg[-1] -d]\n",
    "            yield Pad(weg,g.stappen_op, g.stappen_neer +1)\n",
    "        for g in padGenA(n-1,d):\n",
    "            weg = g.weg + [g.weg[-1] +d]\n",
    "            yield Pad(weg,g.stappen_op+1, g.stappen_neer )\n",
    "\n",
    "def padGen(par:Model):\n",
    "    if par.aantal_intervallen > 10:\n",
    "        raise Exception(\"te veel paden niet over loopen pas op voor crash\")\n",
    "    else:\n",
    "        return padGenA(par.aantal_intervallen,par.delta_x)"
   ]
  },
  {
   "cell_type": "code",
   "execution_count": 68,
   "metadata": {},
   "outputs": [
    {
     "name": "stdout",
     "output_type": "stream",
     "text": [
      "Pad(weg=[0, -0.04743416490252569, 0.0, 0.04743416490252569, 0.0, 0.04743416490252569, 0.0, -0.04743416490252569, 0.0, -0.04743416490252569, -0.09486832980505137], stappen_op=4, stappen_neer=6)\n"
     ]
    },
    {
     "data": {
      "image/png": "[encoded data removed]",
      "text/plain": [
       "<Figure size 432x288 with 1 Axes>"
      ]
     },
     "metadata": {
      "needs_background": "light"
     },
     "output_type": "display_data"
    }
   ],
   "source": [
    "g = padGen(testModel)\n",
    "for _ in range(150):\n",
    "    next(g)\n",
    "p = next(g)\n",
    "print(p)\n",
    "plt.plot(range(11),p.weg)\n",
    "plt.show()"
   ]
  },
  {
   "cell_type": "code",
   "execution_count": 96,
   "metadata": {},
   "outputs": [],
   "source": [
    "def somOverAllePaden(par:Model):\n",
    "    return sum(par.payoffOptie(pad.weg[-1]) * par.kansBoven**(pad.stappen_op) * par.kansOnder**(pad.stappen_neer) \\\n",
    "        for pad in padGen(par)) * exp(-par.rente*par.looptijd)\n"
   ]
  },
  {
   "cell_type": "code",
   "execution_count": 67,
   "metadata": {},
   "outputs": [
    {
     "data": {
      "text/plain": [
       "0.06358034707513391"
      ]
     },
     "execution_count": 67,
     "metadata": {},
     "output_type": "execute_result"
    }
   ],
   "source": [
    "somOverAllePaden(testModel)"
   ]
  },
  {
   "cell_type": "markdown",
   "metadata": {},
   "source": [
    "# implementatie programma 3 (importance sampling achtig)"
   ]
  },
  {
   "cell_type": "code",
   "execution_count": 113,
   "metadata": {},
   "outputs": [],
   "source": [
    "from random import randint\n",
    "#TODO maak dit beter want dit is niet leesbaar\n",
    "def padGenARandom(n,d,aantal_paden):\n",
    "    if n==0:\n",
    "        yield Pad([0],0,0) \n",
    "    else: \n",
    "        for _ in range(aantal_paden):\n",
    "            for g in padGenARandom(n-1,d,1):\n",
    "                if randint(0,1):\n",
    "                    weg = g.weg + [g.weg[-1] -d]\n",
    "                    yield Pad(weg,g.stappen_op, g.stappen_neer +1)\n",
    "                else:\n",
    "                    weg = g.weg + [g.weg[-1] +d]\n",
    "                    yield Pad(weg,g.stappen_op+1, g.stappen_neer )\n",
    "                    \n",
    "\n",
    "def padGenRandomUniform(par:Model,n:\"aantal_paden\"):\n",
    "    return padGenARandom(par.aantal_intervallen,par.delta_x,n)"
   ]
  },
  {
   "cell_type": "code",
   "execution_count": 114,
   "metadata": {},
   "outputs": [
    {
     "name": "stdout",
     "output_type": "stream",
     "text": [
      "Pad(weg=[0, 0.04743416490252569, 0.0, 0.04743416490252569, 0.0, -0.04743416490252569, 0.0, 0.04743416490252569, 0.0, -0.04743416490252569, 0.0], stappen_op=5, stappen_neer=5)\n"
     ]
    },
    {
     "data": {
      "image/png": "[encoded data removed]",
      "text/plain": [
       "<Figure size 432x288 with 1 Axes>"
      ]
     },
     "metadata": {
      "needs_background": "light"
     },
     "output_type": "display_data"
    }
   ],
   "source": [
    "g = padGenRandomUniform(testModel,1)\n",
    "p = next(g)\n",
    "print(p)\n",
    "plt.plot(range(11),p.weg)\n",
    "plt.show()"
   ]
  },
  {
   "cell_type": "code",
   "execution_count": 125,
   "metadata": {},
   "outputs": [],
   "source": [
    "def monteCarloUniform(par:Model, n:\"aantalpaden\"):\n",
    "    return sum(par.payoffOptie(pad.weg[-1]) * par.kansBoven**(pad.stappen_op) * par.kansOnder**(pad.stappen_neer) \\\n",
    "        for pad in padGenRandomUniform(par,n)) * exp(-par.rente*par.looptijd)* 2 **(par.aantal_intervallen)/n"
   ]
  },
  {
   "cell_type": "code",
   "execution_count": 181,
   "metadata": {},
   "outputs": [
    {
     "data": {
      "text/plain": [
       "0.061848283244060866"
      ]
     },
     "execution_count": 181,
     "metadata": {},
     "output_type": "execute_result"
    }
   ],
   "source": [
    "monteCarloUniform(testModel,1000)"
   ]
  },
  {
   "cell_type": "markdown",
   "metadata": {},
   "source": [
    "# implementatie programma 3 (zoals in de opgave)"
   ]
  },
  {
   "cell_type": "code",
   "execution_count": 141,
   "metadata": {},
   "outputs": [],
   "source": [
    "from random import random\n",
    "#TODO maak dit beter want dit is niet leesbaar\n",
    "def padGenBRandom(n,d,aantal_paden,kansBoven):\n",
    "    if n==0:\n",
    "        yield Pad([0],0,0) \n",
    "    else: \n",
    "        for _ in range(aantal_paden):\n",
    "            for g in padGenBRandom(n-1,d,1,kansBoven):\n",
    "                if random()>kansBoven:\n",
    "                    weg = g.weg + [g.weg[-1] -d]\n",
    "                    yield Pad(weg,g.stappen_op, g.stappen_neer +1)\n",
    "                else:\n",
    "                    weg = g.weg + [g.weg[-1] +d]\n",
    "                    yield Pad(weg,g.stappen_op+1, g.stappen_neer )\n",
    "                    \n",
    "\n",
    "def padGenRandomRiskFree(par:Model,n:\"aantal_paden\"):\n",
    "    return padGenBRandom(par.aantal_intervallen,par.delta_x,n,par.kansBoven)"
   ]
  },
  {
   "cell_type": "code",
   "execution_count": 143,
   "metadata": {},
   "outputs": [],
   "source": [
    "def monteCarloRiskFree(par:Model, n:\"aantalpaden\"):\n",
    "    return sum(par.payoffOptie(pad.weg[-1]) \\\n",
    "        for pad in padGenRandomRiskFree(par,n)) * exp(-par.rente*par.looptijd)/n"
   ]
  },
  {
   "cell_type": "code",
   "execution_count": 169,
   "metadata": {},
   "outputs": [
    {
     "data": {
      "text/plain": [
       "0.06789796524987109"
      ]
     },
     "execution_count": 169,
     "metadata": {},
     "output_type": "execute_result"
    }
   ],
   "source": [
    "monteCarloRiskFree(testModel,1000)"
   ]
  },
  {
   "cell_type": "markdown",
   "metadata": {},
   "source": [
    "# bijvraag "
   ]
  },
  {
   "cell_type": "markdown",
   "metadata": {},
   "source": [
    "wat ik in programma 1 aanpas is gewoon alles voor bij de bariere"
   ]
  },
  {
   "cell_type": "code",
   "execution_count": 266,
   "metadata": {},
   "outputs": [],
   "source": [
    "\n",
    "def init_V_bar(par:Model):\n",
    "    return {x:par.payoffOptie(x) if par.bariere[0]<x<par.bariere[1] else 0 for x in x_waarden_op_het_einde(par) }\n",
    "\n",
    "def plot_V(V):\n",
    "    x,y = zip(*V.items())\n",
    "    plt.plot(x,y)\n",
    "    plt.show()\n",
    "\n",
    "# TODO: dit kan beter met een dictionary comprehension\n",
    "def terug_V_bar(V,par:Model):\n",
    "    Vterug = {}\n",
    "    for i in range(len(V.keys())-1):\n",
    "        keys = list(V.keys())\n",
    "        x = keys[i]\n",
    "        x_volg = keys[i+1]\n",
    "        x_nieuw  = (x+x_volg)/2\n",
    "        V_nieuw = V[x]*par.kansOnder + V[x_volg] * par.kansBoven if par.bariere[0]<x_nieuw<par.bariere[1] else 0  \n",
    "        Vterug[x_nieuw] = V_nieuw * exp(-par.rente * par.delta_t) \n",
    "    return Vterug\n",
    "\n",
    "def eindigeDifferentie_bar(par:Model):\n",
    "    V = init_V_bar(par)\n",
    "    for _ in range(par.aantal_intervallen):\n",
    "        V = terug_V_bar(V,par)\n",
    "    return V"
   ]
  },
  {
   "cell_type": "code",
   "execution_count": 190,
   "metadata": {},
   "outputs": [
    {
     "data": {
      "image/png": "[encoded data removed]",
      "text/plain": [
       "<Figure size 432x288 with 1 Axes>"
      ]
     },
     "metadata": {
      "needs_background": "light"
     },
     "output_type": "display_data"
    }
   ],
   "source": [
    "V = init_V_bar(testModel)\n",
    "plot_V(V)"
   ]
  },
  {
   "cell_type": "code",
   "execution_count": 192,
   "metadata": {},
   "outputs": [
    {
     "data": {
      "image/png": "[encoded data removed]",
      "text/plain": [
       "<Figure size 432x288 with 1 Axes>"
      ]
     },
     "metadata": {
      "needs_background": "light"
     },
     "output_type": "display_data"
    }
   ],
   "source": [
    "V = init_V_bar(testModel)\n",
    "for _ in range(testModel.aantal_intervallen // 2):\n",
    "    V = terug_V_bar(V,testModel)\n",
    "plot_V(V)"
   ]
  },
  {
   "cell_type": "markdown",
   "metadata": {},
   "source": [
    "programma 2 en 3 doe ik samen ik verwijder gewoon de bedragen van alle wegen die over\n",
    "de bariere zijn geweest, ik schrijf een functie die checkt dat een weg over de bariere is geweest (zeker niet op de meest efficienste manier maar er zijn al zoveel inefiecienties ...)"
   ]
  },
  {
   "cell_type": "code",
   "execution_count": 231,
   "metadata": {},
   "outputs": [],
   "source": [
    "def binnenBariere(p:Pad,par:Model):\n",
    "    return bool(min(par.bariere[0]<x<par.bariere[1] for x in p.weg))"
   ]
  },
  {
   "cell_type": "code",
   "execution_count": 250,
   "metadata": {},
   "outputs": [
    {
     "name": "stdout",
     "output_type": "stream",
     "text": [
      "[-0.2, 0.2]\n",
      "Pad(weg=[0, -0.04743416490252569, 0.0, -0.04743416490252569, 0.0, 0.04743416490252569, 0.0, 0.04743416490252569, 0.09486832980505137, 0.04743416490252569, 0.0], stappen_op=5, stappen_neer=5)\n",
      "True\n"
     ]
    },
    {
     "data": {
      "image/png": "[encoded data removed]",
      "text/plain": [
       "<Figure size 432x288 with 1 Axes>"
      ]
     },
     "metadata": {
      "needs_background": "light"
     },
     "output_type": "display_data"
    }
   ],
   "source": [
    "print(testModel.bariere)\n",
    "g = padGenRandomUniform(testModel,1)\n",
    "p = next(g)\n",
    "print(p)\n",
    "print(binnenBariere(p,testModel))\n",
    "plt.plot(range(11),p.weg)\n",
    "plt.show()"
   ]
  },
  {
   "cell_type": "code",
   "execution_count": 254,
   "metadata": {},
   "outputs": [],
   "source": [
    "def monteCarloUniform_bar(par:Model, n:\"aantalpaden\"):\n",
    "    return sum(par.payoffOptie(pad.weg[-1]) * par.kansBoven**(pad.stappen_op) * par.kansOnder**(pad.stappen_neer) \\\n",
    "        for pad in padGenRandomUniform(par,n) if binnenBariere(pad,par)) * exp(-par.rente*par.looptijd)* 2 **(par.aantal_intervallen)/n\n",
    "\n",
    "def somOverAllePaden_bar(par:Model):\n",
    "    return sum(par.payoffOptie(pad.weg[-1]) * par.kansBoven**(pad.stappen_op) * par.kansOnder**(pad.stappen_neer) \\\n",
    "        for pad in padGen(par) if binnenBariere(pad,par)) * exp(-par.rente*par.looptijd)\n",
    "\n",
    "def monteCarloRiskFree_bar(par:Model, n:\"aantalpaden\"):\n",
    "    return sum(par.payoffOptie(pad.weg[-1]) \\\n",
    "        for pad in padGenRandomRiskFree(par,n) if binnenBariere(pad,par)) * exp(-par.rente*par.looptijd)/n"
   ]
  },
  {
   "cell_type": "code",
   "execution_count": 269,
   "metadata": {},
   "outputs": [
    {
     "name": "stdout",
     "output_type": "stream",
     "text": [
      "0.021442804172524005\n",
      "0.022571080359800048\n",
      "0.021262741792688916\n",
      "{-1.3877787807814457e-17: 0.02257108035979997}\n"
     ]
    }
   ],
   "source": [
    "print(monteCarloRiskFree_bar(testModel,1000))\n",
    "print(somOverAllePaden_bar(testModel))\n",
    "print(monteCarloUniform_bar(testModel,1000))\n",
    "print(eindigeDifferentie_bar(testModel))"
   ]
  }
 ],
 "metadata": {
  "kernelspec": {
   "display_name": "Python 3.9.12 ('base')",
   "language": "python",
   "name": "python3"
  },
  "language_info": {
   "codemirror_mode": {
    "name": "ipython",
    "version": 3
   },
   "file_extension": ".py",
   "mimetype": "text/x-python",
   "name": "python",
   "nbconvert_exporter": "python",
   "pygments_lexer": "ipython3",
   "version": "3.9.12"
  },
  "orig_nbformat": 4,
  "vscode": {
   "interpreter": {
    "hash": "ac5fae6fe65ce8e5f1b3a54cab1a148447ba7e8b6996789b03662a56c09276f7"
   }
  }
 },
 "nbformat": 4,
 "nbformat_minor": 2
}
